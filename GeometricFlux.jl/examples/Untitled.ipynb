{
 "cells": [
  {
   "cell_type": "code",
   "execution_count": 2,
   "metadata": {},
   "outputs": [
    {
     "name": "stderr",
     "output_type": "stream",
     "text": [
      "┌ Info: Precompiling JLD2 [033835bb-8acc-5ee8-8aae-3f567f8a3819]\n",
      "└ @ Base loading.jl:1278\n"
     ]
    }
   ],
   "source": [
    "using Flux\n",
    "# using GraphSAGE\n",
    "using LightGraphs\n",
    "using JLD2\n"
   ]
  },
  {
   "cell_type": "code",
   "execution_count": 3,
   "metadata": {},
   "outputs": [
    {
     "data": {
      "text/plain": [
       "{2708, 5278} undirected simple Int64 graph"
      ]
     },
     "execution_count": 3,
     "metadata": {},
     "output_type": "execute_result"
    }
   ],
   "source": [
    "@load \"../data/cora_features.jld2\" features\n",
    "@load \"../data/cora_labels.jld2\" labels\n",
    "@load \"../data/cora_graph.jld2\" g\n",
    "\n",
    "g"
   ]
  },
  {
   "cell_type": "code",
   "execution_count": 9,
   "metadata": {},
   "outputs": [
    {
     "data": {
      "text/plain": [
       "7×2708 SparseArrays.SparseMatrixCSC{Int64,Int64} with 2708 stored entries:\n",
       "  [4,    1]  =  1\n",
       "  [1,    2]  =  1\n",
       "  [6,    3]  =  1\n",
       "  [6,    4]  =  1\n",
       "  [2,    5]  =  1\n",
       "  [2,    6]  =  1\n",
       "  [3,    7]  =  1\n",
       "  [4,    8]  =  1\n",
       "  [4,    9]  =  1\n",
       "  [3,   10]  =  1\n",
       "  [4,   11]  =  1\n",
       "  [5,   12]  =  1\n",
       "  ⋮\n",
       "  [3, 2696]  =  1\n",
       "  [3, 2697]  =  1\n",
       "  [2, 2698]  =  1\n",
       "  [2, 2699]  =  1\n",
       "  [2, 2700]  =  1\n",
       "  [2, 2701]  =  1\n",
       "  [4, 2702]  =  1\n",
       "  [5, 2703]  =  1\n",
       "  [5, 2704]  =  1\n",
       "  [5, 2705]  =  1\n",
       "  [5, 2706]  =  1\n",
       "  [7, 2707]  =  1\n",
       "  [4, 2708]  =  1"
      ]
     },
     "execution_count": 9,
     "metadata": {},
     "output_type": "execute_result"
    }
   ],
   "source": [
    "labels"
   ]
  },
  {
   "cell_type": "code",
   "execution_count": null,
   "metadata": {},
   "outputs": [],
   "source": []
  },
  {
   "cell_type": "code",
   "execution_count": null,
   "metadata": {},
   "outputs": [],
   "source": []
  },
  {
   "cell_type": "code",
   "execution_count": null,
   "metadata": {},
   "outputs": [],
   "source": []
  }
 ],
 "metadata": {
  "kernelspec": {
   "display_name": "Julia 1.5.3",
   "language": "julia",
   "name": "julia-1.5"
  },
  "language_info": {
   "file_extension": ".jl",
   "mimetype": "application/julia",
   "name": "julia",
   "version": "1.5.3"
  }
 },
 "nbformat": 4,
 "nbformat_minor": 4
}
