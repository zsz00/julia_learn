{
 "cells": [
  {
   "cell_type": "code",
   "execution_count": 4,
   "metadata": {},
   "outputs": [
    {
     "data": {
      "text/plain": [
       "76"
      ]
     },
     "execution_count": 4,
     "metadata": {},
     "output_type": "execute_result"
    }
   ],
   "source": [
    "using Transducers\n",
    "\n",
    "zip(1:3, 10:2:14) |> MapSplat(*) |> sum"
   ]
  },
  {
   "cell_type": "code",
   "execution_count": 5,
   "metadata": {},
   "outputs": [
    {
     "data": {
      "text/plain": [
       "xf_printer (generic function with 1 method)"
      ]
     },
     "execution_count": 5,
     "metadata": {},
     "output_type": "execute_result"
    }
   ],
   "source": [
    "xf_printer(label) = Map() do x\n",
    "    println(label, \": \", x)\n",
    "    return x  # just return it as-is\n",
    "end"
   ]
  },
  {
   "cell_type": "code",
   "execution_count": 29,
   "metadata": {},
   "outputs": [
    {
     "name": "stdout",
     "output_type": "stream",
     "text": [
      " input: (1, 10)\n",
      "output: 10\n",
      " input: (2, 12)\n",
      "output: 24\n",
      " input: (3, 14)\n",
      "output: 42\n"
     ]
    },
    {
     "data": {
      "text/plain": [
       "76"
      ]
     },
     "execution_count": 29,
     "metadata": {},
     "output_type": "execute_result"
    }
   ],
   "source": [
    "zip(1:3, 10:2:14) |>\n",
    "xf_printer(\" input\") |>\n",
    "MapSplat(*) |>\n",
    "xf_printer(\"output\") |>\n",
    "sum \n"
   ]
  },
  {
   "cell_type": "code",
   "execution_count": 23,
   "metadata": {},
   "outputs": [
    {
     "data": {
      "text/plain": [
       "4123"
      ]
     },
     "execution_count": 23,
     "metadata": {},
     "output_type": "execute_result"
    }
   ],
   "source": [
    "1:40 |> Partition(7) |> Filter(x -> prod(x) % 11 == 0) |> Cat() |> Scan(+) |> sum"
   ]
  },
  {
   "cell_type": "code",
   "execution_count": 28,
   "metadata": {},
   "outputs": [
    {
     "data": {
      "text/plain": [
       "40-element UnitRange{Int64} \u001b[90m\u001b[1m|>\u001b[22m\u001b[39m\n",
       "    \u001b[36mPartition\u001b[39m\u001b[33m(\u001b[39m7, 7, false\u001b[33m)\u001b[39m \u001b[90m\u001b[1m|>\u001b[22m\u001b[39m\n",
       "    \u001b[36mMap\u001b[39m\u001b[33m(\u001b[39mMain.λ❓\u001b[33m)\u001b[39m"
      ]
     },
     "execution_count": 28,
     "metadata": {},
     "output_type": "execute_result"
    }
   ],
   "source": [
    "1:40 |> Partition(7)|> xf_printer(\" input\")  # |> sum\n"
   ]
  },
  {
   "cell_type": "code",
   "execution_count": 30,
   "metadata": {},
   "outputs": [
    {
     "data": {
      "text/plain": [
       "Mean: n=4 | value=7.5"
      ]
     },
     "execution_count": 30,
     "metadata": {},
     "output_type": "execute_result"
    }
   ],
   "source": [
    "using OnlineStats: Mean\n",
    "\n",
    "\n",
    "foldl(reducingfunction(Mean()), Map(x -> x^2), 1:4)"
   ]
  },
  {
   "cell_type": "code",
   "execution_count": 48,
   "metadata": {},
   "outputs": [
    {
     "data": {
      "text/plain": [
       "1-element Array{Int64,1}:\n",
       " 2"
      ]
     },
     "execution_count": 48,
     "metadata": {},
     "output_type": "execute_result"
    }
   ],
   "source": [
    "# Stateless transducer\n",
    "using Transducers\n",
    "using Transducers: Transducer, R_, next, inner, xform\n",
    "\n",
    "struct AddOneIfInt <: Transducer end\n",
    "\n",
    "# 没有start(), 只有next()\n",
    "\n",
    "function Transducers.next(rf::R_{AddOneIfInt}, result, input)\n",
    "    if input isa Int\n",
    "        next(inner(rf), result, input + 1)\n",
    "    else\n",
    "        result\n",
    "    end\n",
    "end\n",
    "\n",
    "collect(AddOneIfInt(), 1)\n"
   ]
  },
  {
   "cell_type": "code",
   "execution_count": 58,
   "metadata": {},
   "outputs": [
    {
     "data": {
      "text/plain": [
       "5-element Array{Int64,1}:\n",
       " 1\n",
       " 1\n",
       " 2\n",
       " 1\n",
       " 3"
      ]
     },
     "execution_count": 58,
     "metadata": {},
     "output_type": "execute_result"
    }
   ],
   "source": [
    "# Stateful transducer\n",
    "using Transducers: start, complete, wrap, unwrap, wrapping\n",
    "using Transducers: Transducer, R_, next, inner, xform\n",
    "using Random\n",
    "\n",
    "\n",
    "struct RandomRecall <: Transducer\n",
    "    history::Int\n",
    "    seed::Int\n",
    "end\n",
    "\n",
    "RandomRecall() = RandomRecall(3, 0)\n",
    "\n",
    "# 初始化\n",
    "function Transducers.start(rf::R_{RandomRecall}, result)\n",
    "    buffer = []\n",
    "    rng = MersenneTwister(xform(rf).seed)  # 随机数\n",
    "    private_state = (buffer, rng)   # 私有\n",
    "    return wrap(rf, private_state, start(inner(rf), result))  # 打包\n",
    "end\n",
    "\n",
    "# iter\n",
    "function Transducers.next(rf::R_{RandomRecall}, result, input)\n",
    "    wrapping(rf, result) do (buffer, rng), iresult   # 打包\n",
    "        if length(buffer) < xform(rf).history\n",
    "            push!(buffer, input)\n",
    "            iinput = rand(rng, buffer)\n",
    "        else\n",
    "            i = rand(rng, 1:length(buffer))\n",
    "            iinput = buffer[i]\n",
    "            buffer[i] = input\n",
    "        end\n",
    "        iresult = next(inner(rf), iresult, iinput)\n",
    "        return (buffer, rng), iresult\n",
    "    end\n",
    "end\n",
    "\n",
    "# 完成\n",
    "function Transducers.complete(rf::R_{RandomRecall}, result)\n",
    "    _private_state, inner_result = unwrap(rf, result) # 解包\n",
    "    return complete(inner(rf), inner_result)\n",
    "end\n",
    "\n",
    "\n",
    "collect(RandomRecall(), 1:5)\n",
    "collect(RandomRecall(), 1:5)\n"
   ]
  },
  {
   "cell_type": "code",
   "execution_count": 109,
   "metadata": {},
   "outputs": [
    {
     "data": {
      "text/plain": [
       "1-element Array{Int64,1}:\n",
       " 1"
      ]
     },
     "execution_count": 109,
     "metadata": {},
     "output_type": "execute_result"
    }
   ],
   "source": [
    "# Stateful transducer\n",
    "using Transducers: start, complete, wrap, unwrap, wrapping\n",
    "using Transducers: Transducer, R_, next, inner, xform\n",
    "using Random\n",
    "\n",
    "\n",
    "struct RandomRecall <: Transducer\n",
    "    history::Int\n",
    "    seed::Int\n",
    "end\n",
    "\n",
    "RandomRecall() = RandomRecall(3, 0)\n",
    "\n",
    "# 初始化  state\n",
    "function Transducers.start(rf::R_{RandomRecall}, result)\n",
    "    buffer = 0\n",
    "    private_state = buffer\n",
    "    return wrap(rf, private_state, start(inner(rf), result))  # 打包\n",
    "end\n",
    "\n",
    "# iter\n",
    "function Transducers.next(rf::R_{RandomRecall}, result, input)\n",
    "    wrapping(rf, result) do buffer, iresult   # 打包\n",
    "        buffer += input\n",
    "        iinput = buffer\n",
    "        \n",
    "        iresult = next(inner(rf), iresult, iinput)\n",
    "        return buffer, iresult\n",
    "    end\n",
    "end\n",
    "\n",
    "# 完成\n",
    "function Transducers.complete(rf::R_{RandomRecall}, result)\n",
    "    _private_state, inner_result = unwrap(rf, result) # 解包\n",
    "    return complete(inner(rf), inner_result)\n",
    "end\n",
    "\n",
    "\n",
    "\n",
    "collect(RandomRecall(), 1)\n",
    "# collect(RandomRecall(), 1)"
   ]
  },
  {
   "cell_type": "code",
   "execution_count": 114,
   "metadata": {},
   "outputs": [
    {
     "data": {
      "text/plain": [
       "1-element Array{Int64,1}:\n",
       " 1"
      ]
     },
     "execution_count": 114,
     "metadata": {},
     "output_type": "execute_result"
    }
   ],
   "source": [
    "collect(RandomRecall(), 1)"
   ]
  },
  {
   "cell_type": "code",
   "execution_count": null,
   "metadata": {},
   "outputs": [],
   "source": [
    "\n",
    "1:100 |> Filter(isodd) |> RandomRecall() |> Filter(x -> x > 10) |> Take(5) |> collect\n",
    "\n"
   ]
  },
  {
   "cell_type": "code",
   "execution_count": 41,
   "metadata": {},
   "outputs": [
    {
     "name": "stdout",
     "output_type": "stream",
     "text": [
      "search: \u001b[0m\u001b[1mn\u001b[22m\u001b[0m\u001b[1me\u001b[22m\u001b[0m\u001b[1mx\u001b[22m\u001b[0m\u001b[1mt\u001b[22mpow \u001b[0m\u001b[1mn\u001b[22m\u001b[0m\u001b[1me\u001b[22m\u001b[0m\u001b[1mx\u001b[22m\u001b[0m\u001b[1mt\u001b[22mind \u001b[0m\u001b[1mn\u001b[22m\u001b[0m\u001b[1me\u001b[22m\u001b[0m\u001b[1mx\u001b[22m\u001b[0m\u001b[1mt\u001b[22mprod \u001b[0m\u001b[1mn\u001b[22m\u001b[0m\u001b[1me\u001b[22m\u001b[0m\u001b[1mx\u001b[22m\u001b[0m\u001b[1mt\u001b[22mfloat I\u001b[0m\u001b[1mn\u001b[22m\u001b[0m\u001b[1me\u001b[22m\u001b[0m\u001b[1mx\u001b[22mac\u001b[0m\u001b[1mt\u001b[22mError I\u001b[0m\u001b[1mn\u001b[22md\u001b[0m\u001b[1me\u001b[22m\u001b[0m\u001b[1mx\u001b[22mS\u001b[0m\u001b[1mt\u001b[22myle IOCo\u001b[0m\u001b[1mn\u001b[22mt\u001b[0m\u001b[1me\u001b[22m\u001b[0m\u001b[1mx\u001b[22m\u001b[0m\u001b[1mt\u001b[22m\n",
      "\n"
     ]
    },
    {
     "data": {
      "text/latex": [
       "\\begin{verbatim}\n",
       "Transducers.next(rf::R_{X}, state, input)\n",
       "\\end{verbatim}\n",
       "This is the only required interface.  It takes the following form (if \\texttt{start} is not defined):\n",
       "\n",
       "\\begin{verbatim}\n",
       "next(rf::R_{X}, result, input) =\n",
       "    # code calling next(inner(rf), result, possibly_modified_input)\n",
       "\\end{verbatim}\n",
       "When calling \\texttt{next}, it is almost always a better idea to use the macro form \\href{@ref}{\\texttt{@next}}.  See the details in its documentation.\n",
       "\n",
       "See \\href{@ref}{\\texttt{Map}}, \\href{@ref}{\\texttt{Filter}}, \\href{@ref}{\\texttt{Cat}}, etc. for real-world examples.\n",
       "\n"
      ],
      "text/markdown": [
       "```\n",
       "Transducers.next(rf::R_{X}, state, input)\n",
       "```\n",
       "\n",
       "This is the only required interface.  It takes the following form (if `start` is not defined):\n",
       "\n",
       "```julia\n",
       "next(rf::R_{X}, result, input) =\n",
       "    # code calling next(inner(rf), result, possibly_modified_input)\n",
       "```\n",
       "\n",
       "When calling `next`, it is almost always a better idea to use the macro form [`@next`](@ref).  See the details in its documentation.\n",
       "\n",
       "See [`Map`](@ref), [`Filter`](@ref), [`Cat`](@ref), etc. for real-world examples.\n"
      ],
      "text/plain": [
       "\u001b[36m  Transducers.next(rf::R_{X}, state, input)\u001b[39m\n",
       "\n",
       "  This is the only required interface. It takes the following form (if \u001b[36mstart\u001b[39m\n",
       "  is not defined):\n",
       "\n",
       "\u001b[36m  next(rf::R_{X}, result, input) =\u001b[39m\n",
       "\u001b[36m      # code calling next(inner(rf), result, possibly_modified_input)\u001b[39m\n",
       "\n",
       "  When calling \u001b[36mnext\u001b[39m, it is almost always a better idea to use the macro form\n",
       "  \u001b[36m@next\u001b[39m. See the details in its documentation.\n",
       "\n",
       "  See \u001b[36mMap\u001b[39m, \u001b[36mFilter\u001b[39m, \u001b[36mCat\u001b[39m, etc. for real-world examples."
      ]
     },
     "execution_count": 41,
     "metadata": {},
     "output_type": "execute_result"
    }
   ],
   "source": [
    "?next"
   ]
  },
  {
   "cell_type": "code",
   "execution_count": 117,
   "metadata": {},
   "outputs": [
    {
     "data": {
      "text/plain": [
       "10-element Array{Tuple{Float64,Float64},1}:\n",
       " (1.0, NaN)\n",
       " (1.5, 0.5)\n",
       " (2.0, 1.0)\n",
       " (2.5, 1.6666666666666667)\n",
       " (3.0, 2.5)\n",
       " (3.5, 3.5)\n",
       " (4.0, 4.666666666666667)\n",
       " (4.5, 6.0)\n",
       " (5.0, 7.5)\n",
       " (5.5, 9.166666666666666)"
      ]
     },
     "execution_count": 117,
     "metadata": {},
     "output_type": "execute_result"
    }
   ],
   "source": [
    "# online MeanVar  2020.11.18\n",
    "using Transducers\n",
    "using Transducers: R_, start, next, complete, inner, xform, wrap, unwrap, wrapping\n",
    "\n",
    "struct MeanVar <: Transducer\n",
    "end\n",
    "\n",
    "\n",
    "function Transducers.start(rf::R_{MeanVar}, result)\n",
    "    private_state = (0, 0.0, 0.0)\n",
    "    return wrap(rf, private_state, start(inner(rf), result))\n",
    "end\n",
    "\n",
    "\n",
    "function Transducers.next(rf::R_{MeanVar}, result, input)\n",
    "    wrapping(rf, result) do st, iresult\n",
    "        (n, μ, M2) = st\n",
    "        n += 1\n",
    "        δ = input - μ\n",
    "        μ += δ/n\n",
    "        δ2 = input - μ\n",
    "        M2 += δ*δ2\n",
    "        iinput = (μ, M2 / (n-1))\n",
    "        iresult = next(inner(rf), iresult, iinput)\n",
    "        return (n, μ, M2), iresult\n",
    "    end\n",
    "end\n",
    "\n",
    "function Transducers.complete(rf::R_{MeanVar}, result)\n",
    "    _private_state, inner_result = unwrap(rf, result)\n",
    "    return complete(inner(rf), inner_result)\n",
    "end\n",
    "\n",
    "\n",
    "collect(MeanVar(),1:10)\n",
    "\n"
   ]
  },
  {
   "cell_type": "code",
   "execution_count": 116,
   "metadata": {},
   "outputs": [
    {
     "name": "stdout",
     "output_type": "stream",
     "text": [
      "  0.000001 seconds\n"
     ]
    },
    {
     "data": {
      "text/plain": [
       "(50.5, 841.6666666666666)"
      ]
     },
     "execution_count": 116,
     "metadata": {},
     "output_type": "execute_result"
    }
   ],
   "source": [
    "@time foldl(right, MeanVar(), 1:100)"
   ]
  },
  {
   "cell_type": "code",
   "execution_count": null,
   "metadata": {},
   "outputs": [],
   "source": []
  },
  {
   "cell_type": "code",
   "execution_count": null,
   "metadata": {},
   "outputs": [],
   "source": []
  }
 ],
 "metadata": {
  "kernelspec": {
   "display_name": "Julia 1.5.2",
   "language": "julia",
   "name": "julia-1.5"
  },
  "language_info": {
   "file_extension": ".jl",
   "mimetype": "application/julia",
   "name": "julia",
   "version": "1.5.2"
  }
 },
 "nbformat": 4,
 "nbformat_minor": 4
}
