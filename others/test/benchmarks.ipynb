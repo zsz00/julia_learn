








<!DOCTYPE html>
<html lang="en">

<head>
  <meta charset="utf-8">
  <title>Jupyter Notebook Viewer</title>
  <meta name="viewport" content="width=device-width, initial-scale=1.0">
  <meta name="description" content="">
  <meta name="author" content="">
  
  <meta name="robots" content="noindex,nofollow">
  

  <!--NEW RELIC Start Perf Measurement-->
  
  <!--NREND-->

  <!-- Le styles -->
  <link href="/static/build/styles.css?v=55ba354138253381d2c0ada9821cd4da" rel="stylesheet">

  <!-- Le HTML5 shim, for IE6-8 support of HTML5 elements -->
  <!--[if lt IE 9]>
    <script src="http://html5shim.googlecode.com/svn/trunk/html5.js"></script>
  <![endif]-->

  <!-- Le fav and touch icons -->
  <link rel="shortcut icon" href="/static/ico/ipynb_icon_16x16.png">
  <link rel="apple-touch-icon-precomposed" sizes="144x144"
        href="/static/ico/apple-touch-icon-144-precomposed.png?v=5a3c9ede93e2a8b8ea9e3f8f3da1a905">
  <link rel="apple-touch-icon-precomposed" sizes="114x114"
        href="/static/ico/apple-touch-icon-114-precomposed.png?v=45d86fc8f24dc00638035e1dd7a6d898">
  <link rel="apple-touch-icon-precomposed" sizes="72x72"
        href="/static/ico/apple-touch-icon-72-precomposed.png?v=540b5eb0f3cfd25f1439d1c9bd30e15f">
  <link rel="apple-touch-icon-precomposed"
        href="/static/ico/apple-touch-icon-57-precomposed.png?v=225f0590e187e1458625654f10a28f56">
  
  

  

  
  <meta name="twitter:card" content="summary">
  <meta name="twitter:title" content="Notebook on nbviewer">
  <meta name="twitter:description" content="Check out this Jupyter notebook!">

  
  <meta name="twitter:domain" content="nbviewer.jupyter.org">
  <meta name="twitter:image:src" content="http://ipython.org/ipython-doc/dev/_images/ipynb_icon_128x128.png">

  
    <link href="/static/build/notebook.css?v=aae8f92f7e80fc468ae446b9d852fe90" rel="stylesheet">
  

  

  
    <script src="https://cdnjs.cloudflare.com/ajax/libs/mathjax/2.7.1/MathJax.js?config=TeX-AMS_HTML" type="text/javascript">
    </script>
    <script type="text/javascript">
      init_mathjax = function() {
        if (window.MathJax) {
          // MathJax loaded
          MathJax.Hub.Config({
            TeX: {
              equationNumbers: {
                autoNumber: "AMS",
                useLabelIds: true
              }
            },
            tex2jax: {
              inlineMath: [ ['$','$'], ["\\(","\\)"] ],
              displayMath: [ ['$$','$$'], ["\\[","\\]"] ],
              processEscapes: true,
              processEnvironments: true
            },
            displayAlign: 'center',
            "HTML-CSS": {
              styles: {'.MathJax_Display': {"margin": 0}},
              linebreaks: { automatic: true }
            }
          });
          MathJax.Hub.Queue(["Typeset", MathJax.Hub]);
        }
      }
      init_mathjax();
    </script>
  

  
    <script>
      (function() {
        function addWidgetsRenderer() {
          var mimeElement = document.querySelector('script[type="application/vnd.jupyter.widget-view+json"]');
          var scriptElement = document.createElement('script');
          var widgetRendererSrc = 'https://unpkg.com/@jupyter-widgets/html-manager@0.15/dist/embed-amd.js';
          var widgetState;

          try {
            widgetState = mimeElement && JSON.parse(mimeElement.innerHTML);

            if (widgetState && (widgetState.version_major < 2 || !widgetState.version_major)) {
              widgetRendererSrc = 'https://unpkg.com/jupyter-js-widgets@2.1/dist/embed.js';
            }
          } catch(e) {}

          scriptElement.src = widgetRendererSrc;
          document.body.appendChild(scriptElement);
        }

        document.addEventListener('DOMContentLoaded', addWidgetsRenderer);
      }());
    </script>
  

</head>

<body class="nbviewer">

  <!-- These are loaded at the top of the body so they are available to
       notebook cells when they are loaded below. -->
  <script src="/static/components/jquery/dist/jquery.min.js?v=a09e13ee94d51c524b7e2a728c7d4039"></script>
  <script src="/static/components/requirejs/require.js?v=6da8be361b9ee26c5e721e76c6d4afce"></script>
  <script src="/static/components/moment/min/moment.min.js?v=89f87298ad94aa1e6b92f42eb66da043"></script>
<!-- Navbar
================================================== -->
  <nav id="menubar" class="navbar navbar-default navbar-fixed-top" data-spy="affix">
    <div class="container">
      <div class="navbar-header">
        <button type="button" class="navbar-toggle collapsed" data-toggle="collapse" data-target=".navbar-collapse">
          <span class="sr-only">Toggle navigation</span>
          <i class="fa fa-bars"></i>
        </button>
        <a class="navbar-brand" href="/">
          <img src="/static/img/nav_logo.svg?v=479cefe8d932fb14a67b93911b97d70f" width="159"/>
        </a>
      </div>

      <div class="collapse navbar-collapse">
        <ul class="nav navbar-nav navbar-right">
          <li>
            <a class="active" href="http://jupyter.org">JUPYTER</a>
          </li>
          <li>
    <a href="/faq" title="FAQ" >
      
        <span>FAQ</span>
      
    </a>
  </li>

          
  
    
  
    
      
        <li>
    <a href="/format/script/url/julialang.org/benchmarks/benchmarks.ipynb" title="View as Code" >
      <span class="fa fa-code fa-2x menu-icon"></span>
      <span class="menu-text">View as Code</span>
    </a>
  </li>
      
    
  

  
    <li>
    <a href="#" title="Julia 0.6.4 Kernel" >
      <span class="fa fa-server fa-2x menu-icon"></span>
      <span class="menu-text">Julia 0.6.4 Kernel</span>
    </a>
  </li>
  

  

  

  <li>
    <a href="http://julialang.org/benchmarks/benchmarks.ipynb" title="Download Notebook" download>
      <span class="fa fa-download fa-2x menu-icon"></span>
      <span class="menu-text">Download Notebook</span>
    </a>
  </li>

        </ul>
      </div><!-- /.navbar-collapse -->
      
      
    </div>
  </nav>

  <div class="container container-main">
    
  
  <div id="notebook">
    <div id="notebook-container">
      
<div class="cell border-box-sizing text_cell rendered"><div class="prompt input_prompt">
</div><div class="inner_cell">
<div class="text_cell_render border-box-sizing rendered_html">
<h1 id="Producing-the-Julia-Microbenchmarks-plot">Producing the Julia Microbenchmarks plot<a class="anchor-link" href="#Producing-the-Julia-Microbenchmarks-plot">&#182;</a></h1>
</div>
</div>
</div>
<div class="cell border-box-sizing code_cell rendered">
<div class="input">
<div class="prompt input_prompt">In&nbsp;[1]:</div>
<div class="inner_cell">
    <div class="input_area">
<div class=" highlight hl-julia"><pre><span></span><span class="c"># Load the required Julia packages</span>
<span class="k">using</span> <span class="n">DataFrames</span>
<span class="k">using</span> <span class="n">Gadfly</span>
<span class="k">using</span> <span class="n">CSV</span>
<span class="k">using</span> <span class="n">StatsBase</span>
</pre></div>

    </div>
</div>
</div>

</div>
<div class="cell border-box-sizing code_cell rendered">
<div class="input">
<div class="prompt input_prompt">In&nbsp;[2]:</div>
<div class="inner_cell">
    <div class="input_area">
<div class=" highlight hl-julia"><pre><span></span><span class="c"># Load benchmark data from file</span>
<span class="n">benchmarks</span> <span class="o">=</span> <span class="n">CSV</span><span class="o">.</span><span class="n">read</span><span class="p">(</span><span class="s">&quot;benchmarks.csv&quot;</span><span class="p">;</span> <span class="n">header</span><span class="o">=</span><span class="p">[</span><span class="s">&quot;language&quot;</span><span class="p">,</span> <span class="s">&quot;benchmark&quot;</span><span class="p">,</span> <span class="s">&quot;time&quot;</span><span class="p">])</span>

<span class="c"># Capitalize and decorate language names from datafile</span>
<span class="n">dict</span> <span class="o">=</span> <span class="kt">Dict</span><span class="p">(</span><span class="s">&quot;c&quot;</span><span class="o">=&gt;</span><span class="s">&quot;C&quot;</span><span class="p">,</span> <span class="s">&quot;julia&quot;</span><span class="o">=&gt;</span><span class="s">&quot;Julia&quot;</span><span class="p">,</span> <span class="s">&quot;lua&quot;</span><span class="o">=&gt;</span><span class="s">&quot;LuaJIT&quot;</span><span class="p">,</span> <span class="s">&quot;fortran&quot;</span><span class="o">=&gt;</span><span class="s">&quot;Fortran&quot;</span><span class="p">,</span> <span class="s">&quot;java&quot;</span><span class="o">=&gt;</span><span class="s">&quot;Java&quot;</span><span class="p">,</span>
    <span class="s">&quot;javascript&quot;</span><span class="o">=&gt;</span><span class="s">&quot;JavaScript&quot;</span><span class="p">,</span> <span class="s">&quot;matlab&quot;</span><span class="o">=&gt;</span><span class="s">&quot;Matlab&quot;</span><span class="p">,</span> <span class="s">&quot;mathematica&quot;</span><span class="o">=&gt;</span><span class="s">&quot;Mathematica&quot;</span><span class="p">,</span> 
    <span class="s">&quot;python&quot;</span><span class="o">=&gt;</span><span class="s">&quot;Python&quot;</span><span class="p">,</span> <span class="s">&quot;octave&quot;</span><span class="o">=&gt;</span><span class="s">&quot;Octave&quot;</span><span class="p">,</span> <span class="s">&quot;r&quot;</span><span class="o">=&gt;</span><span class="s">&quot;R&quot;</span><span class="p">,</span> <span class="s">&quot;rust&quot;</span><span class="o">=&gt;</span><span class="s">&quot;Rust&quot;</span><span class="p">,</span> <span class="s">&quot;go&quot;</span><span class="o">=&gt;</span><span class="s">&quot;Go&quot;</span><span class="p">);</span>
<span class="n">benchmarks</span><span class="p">[</span><span class="o">:</span><span class="n">language</span><span class="p">]</span> <span class="o">=</span> <span class="p">[</span><span class="n">dict</span><span class="p">[</span><span class="n">lang</span><span class="p">]</span> <span class="k">for</span> <span class="n">lang</span> <span class="kp">in</span> <span class="n">benchmarks</span><span class="p">[</span><span class="o">:</span><span class="n">language</span><span class="p">]]</span>

<span class="c"># Normalize benchmark times by C times</span>
<span class="n">ctime</span> <span class="o">=</span> <span class="n">benchmarks</span><span class="p">[</span><span class="n">benchmarks</span><span class="p">[</span><span class="o">:</span><span class="n">language</span><span class="p">]</span><span class="o">.==</span> <span class="s">&quot;C&quot;</span><span class="p">,</span> <span class="o">:</span><span class="p">]</span>
<span class="n">benchmarks</span> <span class="o">=</span> <span class="n">join</span><span class="p">(</span><span class="n">benchmarks</span><span class="p">,</span> <span class="n">ctime</span><span class="p">,</span> <span class="n">on</span><span class="o">=:</span><span class="n">benchmark</span><span class="p">,</span> <span class="n">makeunique</span><span class="o">=</span><span class="kc">true</span><span class="p">)</span>
<span class="n">delete!</span><span class="p">(</span><span class="n">benchmarks</span><span class="p">,</span> <span class="o">:</span><span class="n">language_1</span><span class="p">)</span>
<span class="n">rename!</span><span class="p">(</span><span class="n">benchmarks</span><span class="p">,</span> <span class="o">:</span><span class="n">time_1</span> <span class="o">=&gt;:</span><span class="n">ctime</span><span class="p">)</span>
<span class="n">benchmarks</span><span class="p">[</span><span class="o">:</span><span class="n">normtime</span><span class="p">]</span> <span class="o">=</span> <span class="n">benchmarks</span><span class="p">[</span><span class="o">:</span><span class="n">time</span><span class="p">]</span> <span class="o">./</span> <span class="n">benchmarks</span><span class="p">[</span><span class="o">:</span><span class="n">ctime</span><span class="p">];</span>

<span class="c"># Compute the geometric mean for each language</span>
<span class="n">langs</span> <span class="o">=</span> <span class="p">[];</span>
<span class="n">means</span> <span class="o">=</span> <span class="p">[];</span>
<span class="n">priorities</span> <span class="o">=</span> <span class="p">[];</span>
<span class="k">for</span> <span class="n">lang</span> <span class="kp">in</span> <span class="n">values</span><span class="p">(</span><span class="n">dict</span><span class="p">)</span>
    <span class="n">data</span> <span class="o">=</span> <span class="n">benchmarks</span><span class="p">[</span><span class="n">benchmarks</span><span class="p">[</span><span class="o">:</span><span class="n">language</span><span class="p">]</span><span class="o">.==</span> <span class="n">lang</span><span class="p">,</span> <span class="o">:</span><span class="p">]</span>
    <span class="n">gmean</span> <span class="o">=</span> <span class="n">geomean</span><span class="p">(</span><span class="n">data</span><span class="p">[</span><span class="o">:</span><span class="n">normtime</span><span class="p">])</span>
    <span class="n">push!</span><span class="p">(</span><span class="n">langs</span><span class="p">,</span> <span class="n">lang</span><span class="p">)</span>
    <span class="n">push!</span><span class="p">(</span><span class="n">means</span><span class="p">,</span> <span class="n">gmean</span><span class="p">)</span>
    <span class="k">if</span> <span class="p">(</span><span class="n">lang</span> <span class="o">==</span> <span class="s">&quot;C&quot;</span><span class="p">)</span>
        <span class="n">push!</span><span class="p">(</span><span class="n">priorities</span><span class="p">,</span> <span class="mi">1</span><span class="p">)</span>
    <span class="k">elseif</span> <span class="p">(</span><span class="n">lang</span> <span class="o">==</span> <span class="s">&quot;Julia&quot;</span><span class="p">)</span>
        <span class="n">push!</span><span class="p">(</span><span class="n">priorities</span><span class="p">,</span> <span class="mi">2</span><span class="p">)</span>        
    <span class="k">else</span>
        <span class="n">push!</span><span class="p">(</span><span class="n">priorities</span><span class="p">,</span> <span class="mi">3</span><span class="p">)</span>
    <span class="k">end</span>
<span class="k">end</span>

<span class="c"># Add the geometric means back into the benchmarks dataframe</span>
<span class="n">langmean</span> <span class="o">=</span> <span class="n">DataFrame</span><span class="p">(</span><span class="n">language</span><span class="o">=</span><span class="n">langs</span><span class="p">,</span> <span class="n">geomean</span> <span class="o">=</span> <span class="n">means</span><span class="p">,</span> <span class="n">priority</span> <span class="o">=</span> <span class="n">priorities</span><span class="p">)</span>
<span class="n">benchmarks</span> <span class="o">=</span> <span class="n">join</span><span class="p">(</span><span class="n">benchmarks</span><span class="p">,</span> <span class="n">langmean</span><span class="p">,</span> <span class="n">on</span><span class="o">=:</span><span class="n">language</span><span class="p">)</span>

<span class="c"># Put C first, Julia second, and sort the rest by geometric mean</span>
<span class="n">sort!</span><span class="p">(</span><span class="n">benchmarks</span><span class="p">,</span> <span class="p">[</span><span class="o">:</span><span class="n">priority</span><span class="p">,</span> <span class="o">:</span><span class="n">geomean</span><span class="p">]);</span>
<span class="n">sort!</span><span class="p">(</span><span class="n">langmean</span><span class="p">,</span>   <span class="p">[</span><span class="o">:</span><span class="n">priority</span><span class="p">,</span> <span class="o">:</span><span class="n">geomean</span><span class="p">]);</span>
</pre></div>

    </div>
</div>
</div>

</div>
<div class="cell border-box-sizing code_cell rendered">
<div class="input">
<div class="prompt input_prompt">In&nbsp;[3]:</div>
<div class="inner_cell">
    <div class="input_area">
<div class=" highlight hl-julia"><pre><span></span><span class="n">p</span> <span class="o">=</span> <span class="n">plot</span><span class="p">(</span><span class="n">benchmarks</span><span class="p">,</span>
    <span class="n">x</span> <span class="o">=</span> <span class="o">:</span><span class="n">language</span><span class="p">,</span>
    <span class="n">y</span> <span class="o">=</span> <span class="o">:</span><span class="n">normtime</span><span class="p">,</span>
    <span class="n">color</span> <span class="o">=</span> <span class="o">:</span><span class="n">benchmark</span><span class="p">,</span>
    <span class="n">Scale</span><span class="o">.</span><span class="n">y_log10</span><span class="p">,</span>
    <span class="n">Guide</span><span class="o">.</span><span class="n">ylabel</span><span class="p">(</span><span class="nb">nothing</span><span class="p">),</span>
    <span class="n">Guide</span><span class="o">.</span><span class="n">xlabel</span><span class="p">(</span><span class="nb">nothing</span><span class="p">),</span>
    <span class="n">Coord</span><span class="o">.</span><span class="n">Cartesian</span><span class="p">(</span><span class="n">xmin</span><span class="o">=</span><span class="mi">1</span><span class="p">,</span><span class="n">xmax</span><span class="o">=</span><span class="mf">13.3</span><span class="p">,</span><span class="n">ymin</span><span class="o">=-</span><span class="mf">0.5</span><span class="p">,</span><span class="n">ymax</span><span class="o">=</span><span class="mf">4.2</span><span class="p">),</span>
    <span class="n">Theme</span><span class="p">(</span>
        <span class="n">guide_title_position</span> <span class="o">=</span> <span class="o">:</span><span class="n">left</span><span class="p">,</span>
        <span class="n">colorkey_swatch_shape</span> <span class="o">=</span> <span class="o">:</span><span class="n">circle</span><span class="p">,</span>
        <span class="n">minor_label_font</span> <span class="o">=</span> <span class="s">&quot;Georgia&quot;</span><span class="p">,</span>
        <span class="n">major_label_font</span> <span class="o">=</span> <span class="s">&quot;Georgia&quot;</span>
    <span class="p">),</span>
<span class="p">)</span>
<span class="n">draw</span><span class="p">(</span><span class="n">SVG</span><span class="p">(</span><span class="mi">8</span><span class="n">inch</span><span class="p">,</span><span class="mi">8</span><span class="n">inch</span><span class="o">/</span><span class="nb">golden</span><span class="p">),</span> <span class="n">p</span><span class="p">)</span>
</pre></div>

    </div>
</div>
</div>

<div class="output_wrapper">
<div class="output">


<div class="output_area">

    <div class="prompt"></div>



<div class="output_html rendered_html output_subarea ">
<?xml version="1.0" encoding="UTF-8"?>
<svg xmlns="http://www.w3.org/2000/svg"
     xmlns:xlink="http://www.w3.org/1999/xlink"
     xmlns:gadfly="http://www.gadflyjl.org/ns"
     version="1.2"
     width="203.2mm" height="125.58mm" viewBox="0 0 203.2 125.58"
     stroke="none"
     fill="#000000"
     stroke-width="0.3"
     font-size="3.88"
>
<g class="plotroot yscalable" id="img-f6d46ee0-1">
  <g class="guide xlabels" font-size="2.82" font-family="Georgia" fill="#6C606B" id="img-f6d46ee0-2">
    <g transform="translate(17.61,116.95)">
      <g class="primitive">
        <text text-anchor="middle" dy="0.6em">C</text>
      </g>
    </g>
    <g transform="translate(29.43,116.95)">
      <g class="primitive">
        <text text-anchor="middle" dy="0.6em">Julia</text>
      </g>
    </g>
    <g transform="translate(41.25,116.95)">
      <g class="primitive">
        <text text-anchor="middle" dy="0.6em">LuaJIT</text>
      </g>
    </g>
    <g transform="translate(53.08,116.95)">
      <g class="primitive">
        <text text-anchor="middle" dy="0.6em">Rust</text>
      </g>
    </g>
    <g transform="translate(64.9,116.95)">
      <g class="primitive">
        <text text-anchor="middle" dy="0.6em">Go</text>
      </g>
    </g>
    <g transform="translate(76.72,116.95)">
      <g class="primitive">
        <text text-anchor="middle" dy="0.6em">Fortran</text>
      </g>
    </g>
    <g transform="translate(88.54,116.95)">
      <g class="primitive">
        <text text-anchor="middle" dy="0.6em">Java</text>
      </g>
    </g>
    <g transform="translate(100.36,116.95)">
      <g class="primitive">
        <text text-anchor="middle" dy="0.6em">JavaScript</text>
      </g>
    </g>
    <g transform="translate(112.18,116.95)">
      <g class="primitive">
        <text text-anchor="middle" dy="0.6em">Matlab</text>
      </g>
    </g>
    <g transform="translate(124,116.95)">
      <g class="primitive">
        <text text-anchor="middle" dy="0.6em">Mathematica</text>
      </g>
    </g>
    <g transform="translate(135.83,116.95)">
      <g class="primitive">
        <text text-anchor="middle" dy="0.6em">Python</text>
      </g>
    </g>
    <g transform="translate(147.65,116.95)">
      <g class="primitive">
        <text text-anchor="middle" dy="0.6em">R</text>
      </g>
    </g>
    <g transform="translate(159.47,116.95)">
      <g class="primitive">
        <text text-anchor="middle" dy="0.6em">Octave</text>
      </g>
    </g>
  </g>
  <g class="guide colorkey" id="img-f6d46ee0-3">
    <g fill="#4C404B" font-size="2.82" font-family="'PT Sans','Helvetica Neue','Helvetica',sans-serif" id="img-f6d46ee0-4">
      <g transform="translate(172.74,49.6)" id="img-f6d46ee0-5" class="color_iteration_pi_sum">
        <g class="primitive">
          <text dy="0.35em">iteration_pi_sum</text>
        </g>
      </g>
      <g transform="translate(172.74,53.22)" id="img-f6d46ee0-6" class="color_matrix_multiply">
        <g class="primitive">
          <text dy="0.35em">matrix_multiply</text>
        </g>
      </g>
      <g transform="translate(172.74,56.85)" id="img-f6d46ee0-7" class="color_matrix_statistics">
        <g class="primitive">
          <text dy="0.35em">matrix_statistics</text>
        </g>
      </g>
      <g transform="translate(172.74,60.48)" id="img-f6d46ee0-8" class="color_parse_integers">
        <g class="primitive">
          <text dy="0.35em">parse_integers</text>
        </g>
      </g>
      <g transform="translate(172.74,64.1)" id="img-f6d46ee0-9" class="color_print_to_file">
        <g class="primitive">
          <text dy="0.35em">print_to_file</text>
        </g>
      </g>
      <g transform="translate(172.74,67.73)" id="img-f6d46ee0-10" class="color_recursion_fibonacci">
        <g class="primitive">
          <text dy="0.35em">recursion_fibonacci</text>
        </g>
      </g>
      <g transform="translate(172.74,71.36)" id="img-f6d46ee0-11" class="color_recursion_quicksort">
        <g class="primitive">
          <text dy="0.35em">recursion_quicksort</text>
        </g>
      </g>
      <g transform="translate(172.74,74.98)" id="img-f6d46ee0-12" class="color_userfunc_mandelbrot">
        <g class="primitive">
          <text dy="0.35em">userfunc_mandelbrot</text>
        </g>
      </g>
    </g>
    <g stroke="#000000" stroke-opacity="0.000" id="img-f6d46ee0-13">
      <g transform="translate(170.74,49.6)" id="img-f6d46ee0-14" fill="#00BFFF" class="color_iteration_pi_sum">
        <circle cx="0" cy="0" r="0.91" class="primitive"/>
      </g>
      <g transform="translate(170.74,53.22)" id="img-f6d46ee0-15" fill="#D4CA3A" class="color_matrix_multiply">
        <circle cx="0" cy="0" r="0.91" class="primitive"/>
      </g>
      <g transform="translate(170.74,56.85)" id="img-f6d46ee0-16" fill="#FF6DAE" class="color_matrix_statistics">
        <circle cx="0" cy="0" r="0.91" class="primitive"/>
      </g>
      <g transform="translate(170.74,60.48)" id="img-f6d46ee0-17" fill="#00B78D" class="color_parse_integers">
        <circle cx="0" cy="0" r="0.91" class="primitive"/>
      </g>
      <g transform="translate(170.74,64.1)" id="img-f6d46ee0-18" fill="#BEA9FF" class="color_print_to_file">
        <circle cx="0" cy="0" r="0.91" class="primitive"/>
      </g>
      <g transform="translate(170.74,67.73)" id="img-f6d46ee0-19" fill="#FF6765" class="color_recursion_fibonacci">
        <circle cx="0" cy="0" r="0.91" class="primitive"/>
      </g>
      <g transform="translate(170.74,71.36)" id="img-f6d46ee0-20" fill="#C6C6C6" class="color_recursion_quicksort">
        <circle cx="0" cy="0" r="0.91" class="primitive"/>
      </g>
      <g transform="translate(170.74,74.98)" id="img-f6d46ee0-21" fill="#63DF75" class="color_userfunc_mandelbrot">
        <circle cx="0" cy="0" r="0.91" class="primitive"/>
      </g>
    </g>
    <g fill="#362A35" font-size="3.88" font-family="'PT Sans','Helvetica Neue','Helvetica',sans-serif" stroke="#000000" stroke-opacity="0.000" id="img-f6d46ee0-22">
      <g transform="translate(169.93,45.77)" id="img-f6d46ee0-23">
        <g class="primitive">
          <text>benchmark</text>
        </g>
      </g>
    </g>
  </g>
  <g clip-path="url(#img-f6d46ee0-24)">
    <g id="img-f6d46ee0-25">
      <g pointer-events="visible" opacity="1" fill="#000000" fill-opacity="0.000" stroke="#000000" stroke-opacity="0.000" class="guide background" id="img-f6d46ee0-26">
        <g transform="translate(90.31,60.48)" id="img-f6d46ee0-27">
          <path d="M-78.61,-55.48 L 78.61 -55.48 78.61 55.48 -78.61 55.48 z" class="primitive"/>
        </g>
      </g>
      <g class="guide ygridlines xfixed" stroke-dasharray="0.5,0.5" stroke-width="0.2" stroke="#D0D0E0" id="img-f6d46ee0-28">
        <g transform="translate(90.31,102.57)" id="img-f6d46ee0-29">
          <path fill="none" d="M-78.61,0 L 78.61 0" class="primitive"/>
        </g>
        <g transform="translate(90.31,79.82)" id="img-f6d46ee0-30">
          <path fill="none" d="M-78.61,0 L 78.61 0" class="primitive"/>
        </g>
        <g transform="translate(90.31,57.06)" id="img-f6d46ee0-31">
          <path fill="none" d="M-78.61,0 L 78.61 0" class="primitive"/>
        </g>
        <g transform="translate(90.31,34.31)" id="img-f6d46ee0-32">
          <path fill="none" d="M-78.61,0 L 78.61 0" class="primitive"/>
        </g>
        <g transform="translate(90.31,11.55)" id="img-f6d46ee0-33">
          <path fill="none" d="M-78.61,0 L 78.61 0" class="primitive"/>
        </g>
      </g>
      <g class="guide xgridlines yfixed" stroke-dasharray="0.5,0.5" stroke-width="0.2" stroke="#D0D0E0" id="img-f6d46ee0-34">
        <g transform="translate(23.52,60.48)" id="img-f6d46ee0-35">
          <path fill="none" d="M0,-55.48 L 0 55.48" class="primitive"/>
        </g>
        <g transform="translate(35.34,60.48)" id="img-f6d46ee0-36">
          <path fill="none" d="M0,-55.48 L 0 55.48" class="primitive"/>
        </g>
        <g transform="translate(47.16,60.48)" id="img-f6d46ee0-37">
          <path fill="none" d="M0,-55.48 L 0 55.48" class="primitive"/>
        </g>
        <g transform="translate(58.99,60.48)" id="img-f6d46ee0-38">
          <path fill="none" d="M0,-55.48 L 0 55.48" class="primitive"/>
        </g>
        <g transform="translate(70.81,60.48)" id="img-f6d46ee0-39">
          <path fill="none" d="M0,-55.48 L 0 55.48" class="primitive"/>
        </g>
        <g transform="translate(82.63,60.48)" id="img-f6d46ee0-40">
          <path fill="none" d="M0,-55.48 L 0 55.48" class="primitive"/>
        </g>
        <g transform="translate(94.45,60.48)" id="img-f6d46ee0-41">
          <path fill="none" d="M0,-55.48 L 0 55.48" class="primitive"/>
        </g>
        <g transform="translate(106.27,60.48)" id="img-f6d46ee0-42">
          <path fill="none" d="M0,-55.48 L 0 55.48" class="primitive"/>
        </g>
        <g transform="translate(118.09,60.48)" id="img-f6d46ee0-43">
          <path fill="none" d="M0,-55.48 L 0 55.48" class="primitive"/>
        </g>
        <g transform="translate(129.92,60.48)" id="img-f6d46ee0-44">
          <path fill="none" d="M0,-55.48 L 0 55.48" class="primitive"/>
        </g>
        <g transform="translate(141.74,60.48)" id="img-f6d46ee0-45">
          <path fill="none" d="M0,-55.48 L 0 55.48" class="primitive"/>
        </g>
        <g transform="translate(153.56,60.48)" id="img-f6d46ee0-46">
          <path fill="none" d="M0,-55.48 L 0 55.48" class="primitive"/>
        </g>
      </g>
      <g class="plotpanel" id="img-f6d46ee0-47">
        <metadata>
          <boundingbox value="11.699999999999989mm 5.0mm 157.22666666666666mm 110.9511731806453mm"/>
          <unitbox value="0.5 4.28789057399233 13.3 -4.87578114798466"/>
        </metadata>
        <g class="geometry" id="img-f6d46ee0-48">
          <g stroke-width="0.3" id="img-f6d46ee0-49">
            <g class="color_userfunc_mandelbrot" stroke="#FFFFFF" fill="#63DF75" id="img-f6d46ee0-50">
              <g class="marker" id="img-f6d46ee0-51">
                <g transform="translate(159.47,16.91)" id="img-f6d46ee0-52">
                  <circle cx="0" cy="0" r="0.9" class="primitive"/>
                </g>
              </g>
            </g>
            <g class="color_recursion_quicksort" stroke="#FFFFFF" fill="#C6C6C6" id="img-f6d46ee0-53">
              <g class="marker" id="img-f6d46ee0-54">
                <g transform="translate(159.47,26.42)" id="img-f6d46ee0-55">
                  <circle cx="0" cy="0" r="0.9" class="primitive"/>
                </g>
              </g>
            </g>
            <g class="color_recursion_fibonacci" stroke="#FFFFFF" fill="#FF6765" id="img-f6d46ee0-56">
              <g class="marker" id="img-f6d46ee0-57">
                <g transform="translate(159.47,11.51)" id="img-f6d46ee0-58">
                  <circle cx="0" cy="0" r="0.9" class="primitive"/>
                </g>
              </g>
            </g>
            <g class="color_print_to_file" stroke="#FFFFFF" fill="#BEA9FF" id="img-f6d46ee0-59">
              <g class="marker" id="img-f6d46ee0-60">
                <g transform="translate(159.47,54.45)" id="img-f6d46ee0-61">
                  <circle cx="0" cy="0" r="0.9" class="primitive"/>
                </g>
              </g>
            </g>
            <g class="color_parse_integers" stroke="#FFFFFF" fill="#00B78D" id="img-f6d46ee0-62">
              <g class="marker" id="img-f6d46ee0-63">
                <g transform="translate(159.47,39.79)" id="img-f6d46ee0-64">
                  <circle cx="0" cy="0" r="0.9" class="primitive"/>
                </g>
              </g>
            </g>
            <g class="color_matrix_statistics" stroke="#FFFFFF" fill="#FF6DAE" id="img-f6d46ee0-65">
              <g class="marker" id="img-f6d46ee0-66">
                <g transform="translate(159.47,64.68)" id="img-f6d46ee0-67">
                  <circle cx="0" cy="0" r="0.9" class="primitive"/>
                </g>
              </g>
            </g>
            <g class="color_matrix_multiply" stroke="#FFFFFF" fill="#D4CA3A" id="img-f6d46ee0-68">
              <g class="marker" id="img-f6d46ee0-69">
                <g transform="translate(159.47,100.64)" id="img-f6d46ee0-70">
                  <circle cx="0" cy="0" r="0.9" class="primitive"/>
                </g>
              </g>
            </g>
            <g class="color_iteration_pi_sum" stroke="#FFFFFF" fill="#00BFFF" id="img-f6d46ee0-71">
              <g class="marker" id="img-f6d46ee0-72">
                <g transform="translate(159.47,45.64)" id="img-f6d46ee0-73">
                  <circle cx="0" cy="0" r="0.9" class="primitive"/>
                </g>
              </g>
            </g>
            <g class="color_userfunc_mandelbrot" stroke="#FFFFFF" fill="#63DF75" id="img-f6d46ee0-74">
              <g class="marker" id="img-f6d46ee0-75">
                <g transform="translate(147.65,50.43)" id="img-f6d46ee0-76">
                  <circle cx="0" cy="0" r="0.9" class="primitive"/>
                </g>
              </g>
            </g>
            <g class="color_recursion_quicksort" stroke="#FFFFFF" fill="#C6C6C6" id="img-f6d46ee0-77">
              <g class="marker" id="img-f6d46ee0-78">
                <g transform="translate(147.65,62.46)" id="img-f6d46ee0-79">
                  <circle cx="0" cy="0" r="0.9" class="primitive"/>
                </g>
              </g>
            </g>
            <g class="color_recursion_fibonacci" stroke="#FFFFFF" fill="#FF6765" id="img-f6d46ee0-80">
              <g class="marker" id="img-f6d46ee0-81">
                <g transform="translate(147.65,47.47)" id="img-f6d46ee0-82">
                  <circle cx="0" cy="0" r="0.9" class="primitive"/>
                </g>
              </g>
            </g>
            <g class="color_print_to_file" stroke="#FFFFFF" fill="#BEA9FF" id="img-f6d46ee0-83">
              <g class="marker" id="img-f6d46ee0-84">
                <g transform="translate(147.65,56.9)" id="img-f6d46ee0-85">
                  <circle cx="0" cy="0" r="0.9" class="primitive"/>
                </g>
              </g>
            </g>
            <g class="color_parse_integers" stroke="#FFFFFF" fill="#00B78D" id="img-f6d46ee0-86">
              <g class="marker" id="img-f6d46ee0-87">
                <g transform="translate(147.65,63.84)" id="img-f6d46ee0-88">
                  <circle cx="0" cy="0" r="0.9" class="primitive"/>
                </g>
              </g>
            </g>
            <g class="color_matrix_statistics" stroke="#FFFFFF" fill="#FF6DAE" id="img-f6d46ee0-89">
              <g class="marker" id="img-f6d46ee0-90">
                <g transform="translate(147.65,72.5)" id="img-f6d46ee0-91">
                  <circle cx="0" cy="0" r="0.9" class="primitive"/>
                </g>
              </g>
            </g>
            <g class="color_matrix_multiply" stroke="#FFFFFF" fill="#D4CA3A" id="img-f6d46ee0-92">
              <g class="marker" id="img-f6d46ee0-93">
                <g transform="translate(147.65,81.7)" id="img-f6d46ee0-94">
                  <circle cx="0" cy="0" r="0.9" class="primitive"/>
                </g>
              </g>
            </g>
            <g class="color_iteration_pi_sum" stroke="#FFFFFF" fill="#00BFFF" id="img-f6d46ee0-95">
              <g class="marker" id="img-f6d46ee0-96">
                <g transform="translate(147.65,78.27)" id="img-f6d46ee0-97">
                  <circle cx="0" cy="0" r="0.9" class="primitive"/>
                </g>
              </g>
            </g>
            <g class="color_userfunc_mandelbrot" stroke="#FFFFFF" fill="#63DF75" id="img-f6d46ee0-98">
              <g class="marker" id="img-f6d46ee0-99">
                <g transform="translate(135.83,61.22)" id="img-f6d46ee0-100">
                  <circle cx="0" cy="0" r="0.9" class="primitive"/>
                </g>
              </g>
            </g>
            <g class="color_recursion_quicksort" stroke="#FFFFFF" fill="#C6C6C6" id="img-f6d46ee0-101">
              <g class="marker" id="img-f6d46ee0-102">
                <g transform="translate(135.83,66.74)" id="img-f6d46ee0-103">
                  <circle cx="0" cy="0" r="0.9" class="primitive"/>
                </g>
              </g>
            </g>
            <g class="color_recursion_fibonacci" stroke="#FFFFFF" fill="#FF6765" id="img-f6d46ee0-104">
              <g class="marker" id="img-f6d46ee0-105">
                <g transform="translate(135.83,57.65)" id="img-f6d46ee0-106">
                  <circle cx="0" cy="0" r="0.9" class="primitive"/>
                </g>
              </g>
            </g>
            <g class="color_print_to_file" stroke="#FFFFFF" fill="#BEA9FF" id="img-f6d46ee0-107">
              <g class="marker" id="img-f6d46ee0-108">
                <g transform="translate(135.83,87.2)" id="img-f6d46ee0-109">
                  <circle cx="0" cy="0" r="0.9" class="primitive"/>
                </g>
              </g>
            </g>
            <g class="color_parse_integers" stroke="#FFFFFF" fill="#00B78D" id="img-f6d46ee0-110">
              <g class="marker" id="img-f6d46ee0-111">
                <g transform="translate(135.83,73.08)" id="img-f6d46ee0-112">
                  <circle cx="0" cy="0" r="0.9" class="primitive"/>
                </g>
              </g>
            </g>
            <g class="color_matrix_statistics" stroke="#FFFFFF" fill="#FF6DAE" id="img-f6d46ee0-113">
              <g class="marker" id="img-f6d46ee0-114">
                <g transform="translate(135.83,74.16)" id="img-f6d46ee0-115">
                  <circle cx="0" cy="0" r="0.9" class="primitive"/>
                </g>
              </g>
            </g>
            <g class="color_matrix_multiply" stroke="#FFFFFF" fill="#D4CA3A" id="img-f6d46ee0-116">
              <g class="marker" id="img-f6d46ee0-117">
                <g transform="translate(135.83,100.94)" id="img-f6d46ee0-118">
                  <circle cx="0" cy="0" r="0.9" class="primitive"/>
                </g>
              </g>
            </g>
            <g class="color_iteration_pi_sum" stroke="#FFFFFF" fill="#00BFFF" id="img-f6d46ee0-119">
              <g class="marker" id="img-f6d46ee0-120">
                <g transform="translate(135.83,75.96)" id="img-f6d46ee0-121">
                  <circle cx="0" cy="0" r="0.9" class="primitive"/>
                </g>
              </g>
            </g>
            <g class="color_userfunc_mandelbrot" stroke="#FFFFFF" fill="#63DF75" id="img-f6d46ee0-122">
              <g class="marker" id="img-f6d46ee0-123">
                <g transform="translate(124,73.85)" id="img-f6d46ee0-124">
                  <circle cx="0" cy="0" r="0.9" class="primitive"/>
                </g>
              </g>
            </g>
            <g class="color_recursion_quicksort" stroke="#FFFFFF" fill="#C6C6C6" id="img-f6d46ee0-125">
              <g class="marker" id="img-f6d46ee0-126">
                <g transform="translate(124,65.07)" id="img-f6d46ee0-127">
                  <circle cx="0" cy="0" r="0.9" class="primitive"/>
                </g>
              </g>
            </g>
            <g class="color_recursion_fibonacci" stroke="#FFFFFF" fill="#FF6765" id="img-f6d46ee0-128">
              <g class="marker" id="img-f6d46ee0-129">
                <g transform="translate(124,54.31)" id="img-f6d46ee0-130">
                  <circle cx="0" cy="0" r="0.9" class="primitive"/>
                </g>
              </g>
            </g>
            <g class="color_print_to_file" stroke="#FFFFFF" fill="#BEA9FF" id="img-f6d46ee0-131">
              <g class="marker" id="img-f6d46ee0-132">
                <g transform="translate(124,61.03)" id="img-f6d46ee0-133">
                  <circle cx="0" cy="0" r="0.9" class="primitive"/>
                </g>
              </g>
            </g>
            <g class="color_parse_integers" stroke="#FFFFFF" fill="#00B78D" id="img-f6d46ee0-134">
              <g class="marker" id="img-f6d46ee0-135">
                <g transform="translate(124,71.73)" id="img-f6d46ee0-136">
                  <circle cx="0" cy="0" r="0.9" class="primitive"/>
                </g>
              </g>
            </g>
            <g class="color_matrix_statistics" stroke="#FFFFFF" fill="#FF6DAE" id="img-f6d46ee0-137">
              <g class="marker" id="img-f6d46ee0-138">
                <g transform="translate(124,82.67)" id="img-f6d46ee0-139">
                  <circle cx="0" cy="0" r="0.9" class="primitive"/>
                </g>
              </g>
            </g>
            <g class="color_matrix_multiply" stroke="#FFFFFF" fill="#D4CA3A" id="img-f6d46ee0-140">
              <g class="marker" id="img-f6d46ee0-141">
                <g transform="translate(124,100.89)" id="img-f6d46ee0-142">
                  <circle cx="0" cy="0" r="0.9" class="primitive"/>
                </g>
              </g>
            </g>
            <g class="color_iteration_pi_sum" stroke="#FFFFFF" fill="#00BFFF" id="img-f6d46ee0-143">
              <g class="marker" id="img-f6d46ee0-144">
                <g transform="translate(124,98.86)" id="img-f6d46ee0-145">
                  <circle cx="0" cy="0" r="0.9" class="primitive"/>
                </g>
              </g>
            </g>
            <g class="color_userfunc_mandelbrot" stroke="#FFFFFF" fill="#63DF75" id="img-f6d46ee0-146">
              <g class="marker" id="img-f6d46ee0-147">
                <g transform="translate(112.18,79.97)" id="img-f6d46ee0-148">
                  <circle cx="0" cy="0" r="0.9" class="primitive"/>
                </g>
              </g>
            </g>
            <g class="color_recursion_quicksort" stroke="#FFFFFF" fill="#C6C6C6" id="img-f6d46ee0-149">
              <g class="marker" id="img-f6d46ee0-150">
                <g transform="translate(112.18,94.07)" id="img-f6d46ee0-151">
                  <circle cx="0" cy="0" r="0.9" class="primitive"/>
                </g>
              </g>
            </g>
            <g class="color_recursion_fibonacci" stroke="#FFFFFF" fill="#FF6765" id="img-f6d46ee0-152">
              <g class="marker" id="img-f6d46ee0-153">
                <g transform="translate(112.18,74.23)" id="img-f6d46ee0-154">
                  <circle cx="0" cy="0" r="0.9" class="primitive"/>
                </g>
              </g>
            </g>
            <g class="color_print_to_file" stroke="#FFFFFF" fill="#BEA9FF" id="img-f6d46ee0-155">
              <g class="marker" id="img-f6d46ee0-156">
                <g transform="translate(112.18,56.9)" id="img-f6d46ee0-157">
                  <circle cx="0" cy="0" r="0.9" class="primitive"/>
                </g>
              </g>
            </g>
            <g class="color_parse_integers" stroke="#FFFFFF" fill="#00B78D" id="img-f6d46ee0-158">
              <g class="marker" id="img-f6d46ee0-159">
                <g transform="translate(112.18,51.35)" id="img-f6d46ee0-160">
                  <circle cx="0" cy="0" r="0.9" class="primitive"/>
                </g>
              </g>
            </g>
            <g class="color_matrix_statistics" stroke="#FFFFFF" fill="#FF6DAE" id="img-f6d46ee0-161">
              <g class="marker" id="img-f6d46ee0-162">
                <g transform="translate(112.18,81.9)" id="img-f6d46ee0-163">
                  <circle cx="0" cy="0" r="0.9" class="primitive"/>
                </g>
              </g>
            </g>
            <g class="color_matrix_multiply" stroke="#FFFFFF" fill="#D4CA3A" id="img-f6d46ee0-164">
              <g class="marker" id="img-f6d46ee0-165">
                <g transform="translate(112.18,101.06)" id="img-f6d46ee0-166">
                  <circle cx="0" cy="0" r="0.9" class="primitive"/>
                </g>
              </g>
            </g>
            <g class="color_iteration_pi_sum" stroke="#FFFFFF" fill="#00BFFF" id="img-f6d46ee0-167">
              <g class="marker" id="img-f6d46ee0-168">
                <g transform="translate(112.18,102.5)" id="img-f6d46ee0-169">
                  <circle cx="0" cy="0" r="0.9" class="primitive"/>
                </g>
              </g>
            </g>
            <g class="color_userfunc_mandelbrot" stroke="#FFFFFF" fill="#63DF75" id="img-f6d46ee0-170">
              <g class="marker" id="img-f6d46ee0-171">
                <g transform="translate(100.36,101.33)" id="img-f6d46ee0-172">
                  <circle cx="0" cy="0" r="0.9" class="primitive"/>
                </g>
              </g>
            </g>
            <g class="color_recursion_quicksort" stroke="#FFFFFF" fill="#C6C6C6" id="img-f6d46ee0-173">
              <g class="marker" id="img-f6d46ee0-174">
                <g transform="translate(100.36,88.19)" id="img-f6d46ee0-175">
                  <circle cx="0" cy="0" r="0.9" class="primitive"/>
                </g>
              </g>
            </g>
            <g class="color_recursion_fibonacci" stroke="#FFFFFF" fill="#FF6765" id="img-f6d46ee0-176">
              <g class="marker" id="img-f6d46ee0-177">
                <g transform="translate(100.36,90.14)" id="img-f6d46ee0-178">
                  <circle cx="0" cy="0" r="0.9" class="primitive"/>
                </g>
              </g>
            </g>
            <g class="color_print_to_file" stroke="#FFFFFF" fill="#BEA9FF" id="img-f6d46ee0-179">
              <g class="marker" id="img-f6d46ee0-180">
                <g transform="translate(100.36,82.99)" id="img-f6d46ee0-181">
                  <circle cx="0" cy="0" r="0.9" class="primitive"/>
                </g>
              </g>
            </g>
            <g class="color_parse_integers" stroke="#FFFFFF" fill="#00B78D" id="img-f6d46ee0-182">
              <g class="marker" id="img-f6d46ee0-183">
                <g transform="translate(100.36,86.59)" id="img-f6d46ee0-184">
                  <circle cx="0" cy="0" r="0.9" class="primitive"/>
                </g>
              </g>
            </g>
            <g class="color_matrix_statistics" stroke="#FFFFFF" fill="#FF6DAE" id="img-f6d46ee0-185">
              <g class="marker" id="img-f6d46ee0-186">
                <g transform="translate(100.36,76.51)" id="img-f6d46ee0-187">
                  <circle cx="0" cy="0" r="0.9" class="primitive"/>
                </g>
              </g>
            </g>
            <g class="color_matrix_multiply" stroke="#FFFFFF" fill="#D4CA3A" id="img-f6d46ee0-188">
              <g class="marker" id="img-f6d46ee0-189">
                <g transform="translate(100.36,68.39)" id="img-f6d46ee0-190">
                  <circle cx="0" cy="0" r="0.9" class="primitive"/>
                </g>
              </g>
            </g>
            <g class="color_iteration_pi_sum" stroke="#FFFFFF" fill="#00BFFF" id="img-f6d46ee0-191">
              <g class="marker" id="img-f6d46ee0-192">
                <g transform="translate(100.36,102.49)" id="img-f6d46ee0-193">
                  <circle cx="0" cy="0" r="0.9" class="primitive"/>
                </g>
              </g>
            </g>
            <g class="color_userfunc_mandelbrot" stroke="#FFFFFF" fill="#63DF75" id="img-f6d46ee0-194">
              <g class="marker" id="img-f6d46ee0-195">
                <g transform="translate(88.54,99.06)" id="img-f6d46ee0-196">
                  <circle cx="0" cy="0" r="0.9" class="primitive"/>
                </g>
              </g>
            </g>
            <g class="color_recursion_quicksort" stroke="#FFFFFF" fill="#C6C6C6" id="img-f6d46ee0-197">
              <g class="marker" id="img-f6d46ee0-198">
                <g transform="translate(88.54,91.77)" id="img-f6d46ee0-199">
                  <circle cx="0" cy="0" r="0.9" class="primitive"/>
                </g>
              </g>
            </g>
            <g class="color_recursion_fibonacci" stroke="#FFFFFF" fill="#FF6765" id="img-f6d46ee0-200">
              <g class="marker" id="img-f6d46ee0-201">
                <g transform="translate(88.54,89.81)" id="img-f6d46ee0-202">
                  <circle cx="0" cy="0" r="0.9" class="primitive"/>
                </g>
              </g>
            </g>
            <g class="color_print_to_file" stroke="#FFFFFF" fill="#BEA9FF" id="img-f6d46ee0-203">
              <g class="marker" id="img-f6d46ee0-204">
                <g transform="translate(88.54,80.17)" id="img-f6d46ee0-205">
                  <circle cx="0" cy="0" r="0.9" class="primitive"/>
                </g>
              </g>
            </g>
            <g class="color_parse_integers" stroke="#FFFFFF" fill="#00B78D" id="img-f6d46ee0-206">
              <g class="marker" id="img-f6d46ee0-207">
                <g transform="translate(88.54,91.17)" id="img-f6d46ee0-208">
                  <circle cx="0" cy="0" r="0.9" class="primitive"/>
                </g>
              </g>
            </g>
            <g class="color_matrix_statistics" stroke="#FFFFFF" fill="#FF6DAE" id="img-f6d46ee0-209">
              <g class="marker" id="img-f6d46ee0-210">
                <g transform="translate(88.54,86.61)" id="img-f6d46ee0-211">
                  <circle cx="0" cy="0" r="0.9" class="primitive"/>
                </g>
              </g>
            </g>
            <g class="color_matrix_multiply" stroke="#FFFFFF" fill="#D4CA3A" id="img-f6d46ee0-212">
              <g class="marker" id="img-f6d46ee0-213">
                <g transform="translate(88.54,81.93)" id="img-f6d46ee0-214">
                  <circle cx="0" cy="0" r="0.9" class="primitive"/>
                </g>
              </g>
            </g>
            <g class="color_iteration_pi_sum" stroke="#FFFFFF" fill="#00BFFF" id="img-f6d46ee0-215">
              <g class="marker" id="img-f6d46ee0-216">
                <g transform="translate(88.54,101.76)" id="img-f6d46ee0-217">
                  <circle cx="0" cy="0" r="0.9" class="primitive"/>
                </g>
              </g>
            </g>
            <g class="color_userfunc_mandelbrot" stroke="#FFFFFF" fill="#63DF75" id="img-f6d46ee0-218">
              <g class="marker" id="img-f6d46ee0-219">
                <g transform="translate(76.72,106.07)" id="img-f6d46ee0-220">
                  <circle cx="0" cy="0" r="0.9" class="primitive"/>
                </g>
              </g>
            </g>
            <g class="color_recursion_quicksort" stroke="#FFFFFF" fill="#C6C6C6" id="img-f6d46ee0-221">
              <g class="marker" id="img-f6d46ee0-222">
                <g transform="translate(76.72,100.85)" id="img-f6d46ee0-223">
                  <circle cx="0" cy="0" r="0.9" class="primitive"/>
                </g>
              </g>
            </g>
            <g class="color_recursion_fibonacci" stroke="#FFFFFF" fill="#FF6765" id="img-f6d46ee0-224">
              <g class="marker" id="img-f6d46ee0-225">
                <g transform="translate(76.72,102.69)" id="img-f6d46ee0-226">
                  <circle cx="0" cy="0" r="0.9" class="primitive"/>
                </g>
              </g>
            </g>
            <g class="color_print_to_file" stroke="#FFFFFF" fill="#BEA9FF" id="img-f6d46ee0-227">
              <g class="marker" id="img-f6d46ee0-228">
                <g transform="translate(76.72,84.91)" id="img-f6d46ee0-229">
                  <circle cx="0" cy="0" r="0.9" class="primitive"/>
                </g>
              </g>
            </g>
            <g class="color_parse_integers" stroke="#FFFFFF" fill="#00B78D" id="img-f6d46ee0-230">
              <g class="marker" id="img-f6d46ee0-231">
                <g transform="translate(76.72,83.52)" id="img-f6d46ee0-232">
                  <circle cx="0" cy="0" r="0.9" class="primitive"/>
                </g>
              </g>
            </g>
            <g class="color_matrix_statistics" stroke="#FFFFFF" fill="#FF6DAE" id="img-f6d46ee0-233">
              <g class="marker" id="img-f6d46ee0-234">
                <g transform="translate(76.72,98.29)" id="img-f6d46ee0-235">
                  <circle cx="0" cy="0" r="0.9" class="primitive"/>
                </g>
              </g>
            </g>
            <g class="color_matrix_multiply" stroke="#FFFFFF" fill="#D4CA3A" id="img-f6d46ee0-236">
              <g class="marker" id="img-f6d46ee0-237">
                <g transform="translate(76.72,101.12)" id="img-f6d46ee0-238">
                  <circle cx="0" cy="0" r="0.9" class="primitive"/>
                </g>
              </g>
            </g>
            <g class="color_iteration_pi_sum" stroke="#FFFFFF" fill="#00BFFF" id="img-f6d46ee0-239">
              <g class="marker" id="img-f6d46ee0-240">
                <g transform="translate(76.72,102.57)" id="img-f6d46ee0-241">
                  <circle cx="0" cy="0" r="0.9" class="primitive"/>
                </g>
              </g>
            </g>
            <g class="color_userfunc_mandelbrot" stroke="#FFFFFF" fill="#63DF75" id="img-f6d46ee0-242">
              <g class="marker" id="img-f6d46ee0-243">
                <g transform="translate(64.9,105.05)" id="img-f6d46ee0-244">
                  <circle cx="0" cy="0" r="0.9" class="primitive"/>
                </g>
              </g>
            </g>
            <g class="color_recursion_quicksort" stroke="#FFFFFF" fill="#C6C6C6" id="img-f6d46ee0-245">
              <g class="marker" id="img-f6d46ee0-246">
                <g transform="translate(64.9,100.43)" id="img-f6d46ee0-247">
                  <circle cx="0" cy="0" r="0.9" class="primitive"/>
                </g>
              </g>
            </g>
            <g class="color_recursion_fibonacci" stroke="#FFFFFF" fill="#FF6765" id="img-f6d46ee0-248">
              <g class="marker" id="img-f6d46ee0-249">
                <g transform="translate(64.9,96.74)" id="img-f6d46ee0-250">
                  <circle cx="0" cy="0" r="0.9" class="primitive"/>
                </g>
              </g>
            </g>
            <g class="color_print_to_file" stroke="#FFFFFF" fill="#BEA9FF" id="img-f6d46ee0-251">
              <g class="marker" id="img-f6d46ee0-252">
                <g transform="translate(64.9,97.05)" id="img-f6d46ee0-253">
                  <circle cx="0" cy="0" r="0.9" class="primitive"/>
                </g>
              </g>
            </g>
            <g class="color_parse_integers" stroke="#FFFFFF" fill="#00B78D" id="img-f6d46ee0-254">
              <g class="marker" id="img-f6d46ee0-255">
                <g transform="translate(64.9,102.97)" id="img-f6d46ee0-256">
                  <circle cx="0" cy="0" r="0.9" class="primitive"/>
                </g>
              </g>
            </g>
            <g class="color_matrix_statistics" stroke="#FFFFFF" fill="#FF6DAE" id="img-f6d46ee0-257">
              <g class="marker" id="img-f6d46ee0-258">
                <g transform="translate(64.9,84.72)" id="img-f6d46ee0-259">
                  <circle cx="0" cy="0" r="0.9" class="primitive"/>
                </g>
              </g>
            </g>
            <g class="color_matrix_multiply" stroke="#FFFFFF" fill="#D4CA3A" id="img-f6d46ee0-260">
              <g class="marker" id="img-f6d46ee0-261">
                <g transform="translate(64.9,99.04)" id="img-f6d46ee0-262">
                  <circle cx="0" cy="0" r="0.9" class="primitive"/>
                </g>
              </g>
            </g>
            <g class="color_iteration_pi_sum" stroke="#FFFFFF" fill="#00BFFF" id="img-f6d46ee0-263">
              <g class="marker" id="img-f6d46ee0-264">
                <g transform="translate(64.9,102.57)" id="img-f6d46ee0-265">
                  <circle cx="0" cy="0" r="0.9" class="primitive"/>
                </g>
              </g>
            </g>
            <g class="color_userfunc_mandelbrot" stroke="#FFFFFF" fill="#63DF75" id="img-f6d46ee0-266">
              <g class="marker" id="img-f6d46ee0-267">
                <g transform="translate(53.08,105.4)" id="img-f6d46ee0-268">
                  <circle cx="0" cy="0" r="0.9" class="primitive"/>
                </g>
              </g>
            </g>
            <g class="color_recursion_quicksort" stroke="#FFFFFF" fill="#C6C6C6" id="img-f6d46ee0-269">
              <g class="marker" id="img-f6d46ee0-270">
                <g transform="translate(53.08,102.79)" id="img-f6d46ee0-271">
                  <circle cx="0" cy="0" r="0.9" class="primitive"/>
                </g>
              </g>
            </g>
            <g class="color_recursion_fibonacci" stroke="#FFFFFF" fill="#FF6765" id="img-f6d46ee0-272">
              <g class="marker" id="img-f6d46ee0-273">
                <g transform="translate(53.08,97.18)" id="img-f6d46ee0-274">
                  <circle cx="0" cy="0" r="0.9" class="primitive"/>
                </g>
              </g>
            </g>
            <g class="color_print_to_file" stroke="#FFFFFF" fill="#BEA9FF" id="img-f6d46ee0-275">
              <g class="marker" id="img-f6d46ee0-276">
                <g transform="translate(53.08,103.75)" id="img-f6d46ee0-277">
                  <circle cx="0" cy="0" r="0.9" class="primitive"/>
                </g>
              </g>
            </g>
            <g class="color_parse_integers" stroke="#FFFFFF" fill="#00B78D" id="img-f6d46ee0-278">
              <g class="marker" id="img-f6d46ee0-279">
                <g transform="translate(53.08,100.53)" id="img-f6d46ee0-280">
                  <circle cx="0" cy="0" r="0.9" class="primitive"/>
                </g>
              </g>
            </g>
            <g class="color_matrix_statistics" stroke="#FFFFFF" fill="#FF6DAE" id="img-f6d46ee0-281">
              <g class="marker" id="img-f6d46ee0-282">
                <g transform="translate(53.08,99.01)" id="img-f6d46ee0-283">
                  <circle cx="0" cy="0" r="0.9" class="primitive"/>
                </g>
              </g>
            </g>
            <g class="color_matrix_multiply" stroke="#FFFFFF" fill="#D4CA3A" id="img-f6d46ee0-284">
              <g class="marker" id="img-f6d46ee0-285">
                <g transform="translate(53.08,101.83)" id="img-f6d46ee0-286">
                  <circle cx="0" cy="0" r="0.9" class="primitive"/>
                </g>
              </g>
            </g>
            <g class="color_iteration_pi_sum" stroke="#FFFFFF" fill="#00BFFF" id="img-f6d46ee0-287">
              <g class="marker" id="img-f6d46ee0-288">
                <g transform="translate(53.08,102.57)" id="img-f6d46ee0-289">
                  <circle cx="0" cy="0" r="0.9" class="primitive"/>
                </g>
              </g>
            </g>
            <g class="color_userfunc_mandelbrot" stroke="#FFFFFF" fill="#63DF75" id="img-f6d46ee0-290">
              <g class="marker" id="img-f6d46ee0-291">
                <g transform="translate(41.25,102.54)" id="img-f6d46ee0-292">
                  <circle cx="0" cy="0" r="0.9" class="primitive"/>
                </g>
              </g>
            </g>
            <g class="color_recursion_quicksort" stroke="#FFFFFF" fill="#C6C6C6" id="img-f6d46ee0-293">
              <g class="marker" id="img-f6d46ee0-294">
                <g transform="translate(41.25,98.18)" id="img-f6d46ee0-295">
                  <circle cx="0" cy="0" r="0.9" class="primitive"/>
                </g>
              </g>
            </g>
            <g class="color_recursion_fibonacci" stroke="#FFFFFF" fill="#FF6765" id="img-f6d46ee0-296">
              <g class="marker" id="img-f6d46ee0-297">
                <g transform="translate(41.25,100.87)" id="img-f6d46ee0-298">
                  <circle cx="0" cy="0" r="0.9" class="primitive"/>
                </g>
              </g>
            </g>
            <g class="color_print_to_file" stroke="#FFFFFF" fill="#BEA9FF" id="img-f6d46ee0-299">
              <g class="marker" id="img-f6d46ee0-300">
                <g transform="translate(41.25,107.56)" id="img-f6d46ee0-301">
                  <circle cx="0" cy="0" r="0.9" class="primitive"/>
                </g>
              </g>
            </g>
            <g class="color_parse_integers" stroke="#FFFFFF" fill="#00B78D" id="img-f6d46ee0-302">
              <g class="marker" id="img-f6d46ee0-303">
                <g transform="translate(41.25,102.8)" id="img-f6d46ee0-304">
                  <circle cx="0" cy="0" r="0.9" class="primitive"/>
                </g>
              </g>
            </g>
            <g class="color_matrix_statistics" stroke="#FFFFFF" fill="#FF6DAE" id="img-f6d46ee0-305">
              <g class="marker" id="img-f6d46ee0-306">
                <g transform="translate(41.25,97.29)" id="img-f6d46ee0-307">
                  <circle cx="0" cy="0" r="0.9" class="primitive"/>
                </g>
              </g>
            </g>
            <g class="color_matrix_multiply" stroke="#FFFFFF" fill="#D4CA3A" id="img-f6d46ee0-308">
              <g class="marker" id="img-f6d46ee0-309">
                <g transform="translate(41.25,101.8)" id="img-f6d46ee0-310">
                  <circle cx="0" cy="0" r="0.9" class="primitive"/>
                </g>
              </g>
            </g>
            <g class="color_iteration_pi_sum" stroke="#FFFFFF" fill="#00BFFF" id="img-f6d46ee0-311">
              <g class="marker" id="img-f6d46ee0-312">
                <g transform="translate(41.25,102.57)" id="img-f6d46ee0-313">
                  <circle cx="0" cy="0" r="0.9" class="primitive"/>
                </g>
              </g>
            </g>
            <g class="color_userfunc_mandelbrot" stroke="#FFFFFF" fill="#63DF75" id="img-f6d46ee0-314">
              <g class="marker" id="img-f6d46ee0-315">
                <g transform="translate(29.43,106.28)" id="img-f6d46ee0-316">
                  <circle cx="0" cy="0" r="0.9" class="primitive"/>
                </g>
              </g>
            </g>
            <g class="color_recursion_quicksort" stroke="#FFFFFF" fill="#C6C6C6" id="img-f6d46ee0-317">
              <g class="marker" id="img-f6d46ee0-318">
                <g transform="translate(29.43,102.61)" id="img-f6d46ee0-319">
                  <circle cx="0" cy="0" r="0.9" class="primitive"/>
                </g>
              </g>
            </g>
            <g class="color_recursion_fibonacci" stroke="#FFFFFF" fill="#FF6765" id="img-f6d46ee0-320">
              <g class="marker" id="img-f6d46ee0-321">
                <g transform="translate(29.43,99.78)" id="img-f6d46ee0-322">
                  <circle cx="0" cy="0" r="0.9" class="primitive"/>
                </g>
              </g>
            </g>
            <g class="color_print_to_file" stroke="#FFFFFF" fill="#BEA9FF" id="img-f6d46ee0-323">
              <g class="marker" id="img-f6d46ee0-324">
                <g transform="translate(29.43,101.68)" id="img-f6d46ee0-325">
                  <circle cx="0" cy="0" r="0.9" class="primitive"/>
                </g>
              </g>
            </g>
            <g class="color_parse_integers" stroke="#FFFFFF" fill="#00B78D" id="img-f6d46ee0-326">
              <g class="marker" id="img-f6d46ee0-327">
                <g transform="translate(29.43,94.81)" id="img-f6d46ee0-328">
                  <circle cx="0" cy="0" r="0.9" class="primitive"/>
                </g>
              </g>
            </g>
            <g class="color_matrix_statistics" stroke="#FFFFFF" fill="#FF6DAE" id="img-f6d46ee0-329">
              <g class="marker" id="img-f6d46ee0-330">
                <g transform="translate(29.43,97.73)" id="img-f6d46ee0-331">
                  <circle cx="0" cy="0" r="0.9" class="primitive"/>
                </g>
              </g>
            </g>
            <g class="color_matrix_multiply" stroke="#FFFFFF" fill="#D4CA3A" id="img-f6d46ee0-332">
              <g class="marker" id="img-f6d46ee0-333">
                <g transform="translate(29.43,102.82)" id="img-f6d46ee0-334">
                  <circle cx="0" cy="0" r="0.9" class="primitive"/>
                </g>
              </g>
            </g>
            <g class="color_iteration_pi_sum" stroke="#FFFFFF" fill="#00BFFF" id="img-f6d46ee0-335">
              <g class="marker" id="img-f6d46ee0-336">
                <g transform="translate(29.43,102.46)" id="img-f6d46ee0-337">
                  <circle cx="0" cy="0" r="0.9" class="primitive"/>
                </g>
              </g>
            </g>
            <g class="color_userfunc_mandelbrot" stroke="#FFFFFF" fill="#63DF75" id="img-f6d46ee0-338">
              <g class="marker" id="img-f6d46ee0-339">
                <g transform="translate(17.61,102.57)" id="img-f6d46ee0-340">
                  <circle cx="0" cy="0" r="0.9" class="primitive"/>
                </g>
              </g>
            </g>
            <g class="color_recursion_quicksort" stroke="#FFFFFF" fill="#C6C6C6" id="img-f6d46ee0-341">
              <g class="marker" id="img-f6d46ee0-342">
                <g transform="translate(17.61,102.57)" id="img-f6d46ee0-343">
                  <circle cx="0" cy="0" r="0.9" class="primitive"/>
                </g>
              </g>
            </g>
            <g class="color_recursion_fibonacci" stroke="#FFFFFF" fill="#FF6765" id="img-f6d46ee0-344">
              <g class="marker" id="img-f6d46ee0-345">
                <g transform="translate(17.61,102.57)" id="img-f6d46ee0-346">
                  <circle cx="0" cy="0" r="0.9" class="primitive"/>
                </g>
              </g>
            </g>
            <g class="color_print_to_file" stroke="#FFFFFF" fill="#BEA9FF" id="img-f6d46ee0-347">
              <g class="marker" id="img-f6d46ee0-348">
                <g transform="translate(17.61,102.57)" id="img-f6d46ee0-349">
                  <circle cx="0" cy="0" r="0.9" class="primitive"/>
                </g>
              </g>
            </g>
            <g class="color_parse_integers" stroke="#FFFFFF" fill="#00B78D" id="img-f6d46ee0-350">
              <g class="marker" id="img-f6d46ee0-351">
                <g transform="translate(17.61,102.57)" id="img-f6d46ee0-352">
                  <circle cx="0" cy="0" r="0.9" class="primitive"/>
                </g>
              </g>
            </g>
            <g class="color_matrix_statistics" stroke="#FFFFFF" fill="#FF6DAE" id="img-f6d46ee0-353">
              <g class="marker" id="img-f6d46ee0-354">
                <g transform="translate(17.61,102.57)" id="img-f6d46ee0-355">
                  <circle cx="0" cy="0" r="0.9" class="primitive"/>
                </g>
              </g>
            </g>
            <g class="color_matrix_multiply" stroke="#FFFFFF" fill="#D4CA3A" id="img-f6d46ee0-356">
              <g class="marker" id="img-f6d46ee0-357">
                <g transform="translate(17.61,102.57)" id="img-f6d46ee0-358">
                  <circle cx="0" cy="0" r="0.9" class="primitive"/>
                </g>
              </g>
            </g>
            <g class="color_iteration_pi_sum" stroke="#FFFFFF" fill="#00BFFF" id="img-f6d46ee0-359">
              <g class="marker" id="img-f6d46ee0-360">
                <g transform="translate(17.61,102.57)" id="img-f6d46ee0-361">
                  <circle cx="0" cy="0" r="0.9" class="primitive"/>
                </g>
              </g>
            </g>
          </g>
        </g>
      </g>
    </g>
  </g>
  <g class="guide ylabels" font-size="2.82" font-family="Georgia" fill="#6C606B" id="img-f6d46ee0-362">
    <g transform="translate(10.7,102.57)" id="img-f6d46ee0-363">
      <g class="primitive">
        <text text-anchor="end" dy="0.35em">10<tspan style="dominant-baseline:inherit" dy="-0.6em" font-size="83%">0</tspan><tspan dy="0.498000em"></tspan></text>
      </g>
    </g>
    <g transform="translate(10.7,79.82)" id="img-f6d46ee0-364">
      <g class="primitive">
        <text text-anchor="end" dy="0.35em">10<tspan style="dominant-baseline:inherit" dy="-0.6em" font-size="83%">1</tspan><tspan dy="0.498000em"></tspan></text>
      </g>
    </g>
    <g transform="translate(10.7,57.06)" id="img-f6d46ee0-365">
      <g class="primitive">
        <text text-anchor="end" dy="0.35em">10<tspan style="dominant-baseline:inherit" dy="-0.6em" font-size="83%">2</tspan><tspan dy="0.498000em"></tspan></text>
      </g>
    </g>
    <g transform="translate(10.7,34.31)" id="img-f6d46ee0-366">
      <g class="primitive">
        <text text-anchor="end" dy="0.35em">10<tspan style="dominant-baseline:inherit" dy="-0.6em" font-size="83%">3</tspan><tspan dy="0.498000em"></tspan></text>
      </g>
    </g>
    <g transform="translate(10.7,11.55)" id="img-f6d46ee0-367">
      <g class="primitive">
        <text text-anchor="end" dy="0.35em">10<tspan style="dominant-baseline:inherit" dy="-0.6em" font-size="83%">4</tspan><tspan dy="0.498000em"></tspan></text>
      </g>
    </g>
  </g>
</g>
<defs>
  <clipPath id="img-f6d46ee0-24">
    <path d="M11.7,5 L 168.93 5 168.93 115.95 11.7 115.95" />
  </clipPath>
</defs>
</svg>

</div>

</div>

</div>
</div>

</div>
<div class="cell border-box-sizing code_cell rendered">
<div class="input">
<div class="prompt input_prompt">In&nbsp;[4]:</div>
<div class="inner_cell">
    <div class="input_area">
<div class=" highlight hl-julia"><pre><span></span><span class="n">draw</span><span class="p">(</span><span class="n">SVG</span><span class="p">(</span><span class="s">&quot;../images/benchmarks.svg&quot;</span><span class="p">,</span> <span class="mi">9</span><span class="n">inch</span><span class="p">,</span> <span class="mi">9</span><span class="n">inch</span><span class="o">/</span><span class="nb">golden</span><span class="p">),</span> <span class="n">p</span><span class="p">)</span>
</pre></div>

    </div>
</div>
</div>

<div class="output_wrapper">
<div class="output">


<div class="output_area">

    <div class="prompt output_prompt">Out[4]:</div>




<div class="output_text output_subarea output_execute_result">
<pre>false</pre>
</div>

</div>

</div>
</div>

</div>
<div class="cell border-box-sizing code_cell rendered">
<div class="input">
<div class="prompt input_prompt">In&nbsp;[5]:</div>
<div class="inner_cell">
    <div class="input_area">
<div class=" highlight hl-julia"><pre><span></span><span class="c"># Show geometric means of microbenchmarks by language</span>
<span class="n">langmean</span><span class="p">[</span><span class="o">:</span><span class="p">,</span><span class="mi">1</span><span class="o">:</span><span class="mi">2</span><span class="p">]</span>
</pre></div>

    </div>
</div>
</div>

<div class="output_wrapper">
<div class="output">


<div class="output_area">

    <div class="prompt output_prompt">Out[5]:</div>



<div class="output_html rendered_html output_subarea output_execute_result">
<table class="data-frame"><thead><tr><th></th><th>language</th><th>geomean</th></tr></thead><tbody><tr><th>1</th><td>C</td><td>1.0</td></tr><tr><th>2</th><td>Julia</td><td>1.17006</td></tr><tr><th>3</th><td>LuaJIT</td><td>1.09231</td></tr><tr><th>4</th><td>Rust</td><td>1.0999</td></tr><tr><th>5</th><td>Go</td><td>1.49917</td></tr><tr><th>6</th><td>Fortran</td><td>1.67022</td></tr><tr><th>7</th><td>Java</td><td>3.46773</td></tr><tr><th>8</th><td>JavaScript</td><td>4.79602</td></tr><tr><th>9</th><td>Matlab</td><td>9.57235</td></tr><tr><th>10</th><td>Mathematica</td><td>14.6387</td></tr><tr><th>11</th><td>Python</td><td>16.9262</td></tr><tr><th>12</th><td>R</td><td>48.5796</td></tr><tr><th>13</th><td>Octave</td><td>338.704</td></tr></tbody></table>
</div>

</div>

</div>
</div>

</div>
<div class="cell border-box-sizing code_cell rendered">
<div class="input">
<div class="prompt input_prompt">In&nbsp;[&nbsp;]:</div>
<div class="inner_cell">
    <div class="input_area">
<div class=" highlight hl-julia"><pre><span></span>
</pre></div>

    </div>
</div>
</div>

</div>
 


    </div>
  </div>

  </div>


  
    <footer class="footer hidden-print">
      <div class="container">
        <div class="col-md-4">
          <p>
            This website does not host notebooks, it only renders notebooks
            available on other websites.
          </p>
        </div>

        <div class="col-md-4">
          <p>
            Delivered by <a href="http://www.fastly.com/">Fastly</a>,
            Rendered by <a href="https://developer.rackspace.com/?nbviewer=awesome">Rackspace</a>
          </p>
          <p>
            nbviewer GitHub <a href="https://github.com/jupyter/nbviewer">repository</a>.
          </p>
        </div>

        <div class="col-md-4">
          
  
            
              <p>
                nbviewer version:
                <a href="https://github.com/jupyter/nbviewer/commit/f69705373d1402afd924a77712e7c63659e2b57f">
                  f697053
                </a>
              </p>
            
          
  
  <p>
    nbconvert version: <a href="https://github.com/jupyter/nbconvert/releases/tag/5.4.1">
      5.4.1
    </a>
  </p>
  

          
  
  
  <p>
    Rendered
    <span class='date' data-date='Mon, 17 Jun 2019 02:25:39 UTC' title='Mon, 17 Jun 2019 02:25:39 UTC'>(Mon, 17 Jun 2019 02:25:39 UTC)</span>
  </p>
  

        </div>
      </div>
    </footer>
  

  <script src="/static/components/bootstrap/js/bootstrap.min.js?v=5869c96cc8f19086aee625d670d741f9"></script>
  <script src="/static/components/headroom.js/dist/headroom.min.js?v=b0a311ea668f8e768ea375f4a7abb81c"></script>
  <script src="/static/components/headroom.js/dist/jQuery.headroom.min.js?v=f3a1bae118315d0c234afc74dc6aab71"></script>

  
  
  <script>
    $(function(){ $("#menubar").headroom({
      tolerance: 5,
      offset: 205,
      classes: {
        initial: "animated",
        pinned: "slideInDown",
        unpinned: "slideOutUp"
      }
    })});
  </script>


  
  <script>
    (function(i,s,o,g,r,a,m){i['GoogleAnalyticsObject']=r;i[r]=i[r]||function(){
      (i[r].q=i[r].q||[]).push(arguments)},i[r].l=1*new Date();a=s.createElement(o),
      m=s.getElementsByTagName(o)[0];a.async=1;a.src=g;m.parentNode.insertBefore(a,m)
    })(window,document,'script','https://www.google-analytics.com/analytics.js','ga');
    ga('create', 'UA-52617120-5', 'auto',
       {'storage': 'none'});
    ga('set', 'anonymizeIp', true);
    ga('send', 'pageview');
  </script>
  
  <script>
    require({
        paths: {
          moment: "/static/components/moment/min/moment.min.js?v=89f87298ad94aa1e6b92f42eb66da043"
        }
      }, ["moment"], function(moment){
      var date = $("footer .date"),
        m = moment(new Date(date.data('date'))),
        update = function(){ date.text(m.fromNow()); };
      setInterval(update, 61*1000);
      update();
      var w = $(window).scroll(function(event){
        $("body").toggleClass("scrolled", w.scrollTop() > 0);
      });
    });
  </script>

  <!--NEW RELIC Stop Perf Measurement-->
  
  <!--NEW RELIC End-->
</body>
</html>